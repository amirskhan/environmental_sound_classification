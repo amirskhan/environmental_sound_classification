{
 "cells": [
  {
   "cell_type": "markdown",
   "id": "1eb6a90b-5825-4170-8d7f-3a610a7d6ff9",
   "metadata": {},
   "source": [
    "# Evaluation"
   ]
  },
  {
   "cell_type": "markdown",
   "id": "915004a8-2ca5-42eb-8c32-8dd419073567",
   "metadata": {},
   "source": [
    "After the model has been trained, the next step is to evaluate the model on the test set that was splitted using the train test split method. This step is necassary in order to find out how the model will perform with unseen data. Let's import some important libraries required for evaluation purpose."
   ]
  },
  {
   "cell_type": "code",
   "execution_count": 58,
   "id": "7f8c6c81-fa6a-4962-a32f-ba206d7fac45",
   "metadata": {},
   "outputs": [],
   "source": [
    "from sklearn.metrics import classification_report,confusion_matrix\n",
    "from sklearn.metrics import roc_auc_score\n",
    "import seaborn as sns\n",
    "from tensorflow.keras.models import load_model\n",
    "import joblib"
   ]
  },
  {
   "cell_type": "markdown",
   "id": "e357af36-9694-4020-9052-64cde98e476f",
   "metadata": {},
   "source": [
    "## ANN"
   ]
  },
  {
   "cell_type": "markdown",
   "id": "4116c89a-6164-427e-bc55-4d19e3767c7a",
   "metadata": {},
   "source": [
    "I will be using the training history of experiment 2 with the combined features. Because the accuracy was better than the experiment 1 model. The training history will be converted to dataframe using Pandas so that it can be visualised using a plot."
   ]
  },
  {
   "cell_type": "code",
   "execution_count": 59,
   "id": "a7ae6cc2",
   "metadata": {},
   "outputs": [
    {
     "data": {
      "text/html": [
       "<div>\n",
       "<style scoped>\n",
       "    .dataframe tbody tr th:only-of-type {\n",
       "        vertical-align: middle;\n",
       "    }\n",
       "\n",
       "    .dataframe tbody tr th {\n",
       "        vertical-align: top;\n",
       "    }\n",
       "\n",
       "    .dataframe thead th {\n",
       "        text-align: right;\n",
       "    }\n",
       "</style>\n",
       "<table border=\"1\" class=\"dataframe\">\n",
       "  <thead>\n",
       "    <tr style=\"text-align: right;\">\n",
       "      <th></th>\n",
       "      <th>loss</th>\n",
       "      <th>accuracy</th>\n",
       "      <th>val_loss</th>\n",
       "      <th>val_accuracy</th>\n",
       "    </tr>\n",
       "  </thead>\n",
       "  <tbody>\n",
       "    <tr>\n",
       "      <th>0</th>\n",
       "      <td>2.092055</td>\n",
       "      <td>0.314817</td>\n",
       "      <td>1.687288</td>\n",
       "      <td>0.430208</td>\n",
       "    </tr>\n",
       "    <tr>\n",
       "      <th>1</th>\n",
       "      <td>1.496678</td>\n",
       "      <td>0.489334</td>\n",
       "      <td>1.264867</td>\n",
       "      <td>0.577666</td>\n",
       "    </tr>\n",
       "    <tr>\n",
       "      <th>2</th>\n",
       "      <td>1.189498</td>\n",
       "      <td>0.598425</td>\n",
       "      <td>1.223194</td>\n",
       "      <td>0.614889</td>\n",
       "    </tr>\n",
       "    <tr>\n",
       "      <th>3</th>\n",
       "      <td>1.050005</td>\n",
       "      <td>0.658411</td>\n",
       "      <td>0.913218</td>\n",
       "      <td>0.717967</td>\n",
       "    </tr>\n",
       "    <tr>\n",
       "      <th>4</th>\n",
       "      <td>0.881479</td>\n",
       "      <td>0.713243</td>\n",
       "      <td>0.868244</td>\n",
       "      <td>0.704367</td>\n",
       "    </tr>\n",
       "  </tbody>\n",
       "</table>\n",
       "</div>"
      ],
      "text/plain": [
       "       loss  accuracy  val_loss  val_accuracy\n",
       "0  2.092055  0.314817  1.687288      0.430208\n",
       "1  1.496678  0.489334  1.264867      0.577666\n",
       "2  1.189498  0.598425  1.223194      0.614889\n",
       "3  1.050005  0.658411  0.913218      0.717967\n",
       "4  0.881479  0.713243  0.868244      0.704367"
      ]
     },
     "execution_count": 59,
     "metadata": {},
     "output_type": "execute_result"
    }
   ],
   "source": [
    "losses = pd.DataFrame(history_2.history)\n",
    "losses.head()"
   ]
  },
  {
   "cell_type": "markdown",
   "id": "74fe5d18-c59b-4775-a0c5-2ee9bd831496",
   "metadata": {},
   "source": [
    "As you can see there was not much improvement in the accuracy after epoch 20, that why the training was stopped by the EarlyStopping function at epoch 40. Training the model more could have resulted in the overfitting of the model. "
   ]
  },
  {
   "cell_type": "code",
   "execution_count": 60,
   "id": "fdf3a5a6-8e12-4ab8-8e3f-dc0b7af33fd4",
   "metadata": {},
   "outputs": [
    {
     "data": {
      "text/plain": [
       "<AxesSubplot:>"
      ]
     },
     "execution_count": 60,
     "metadata": {},
     "output_type": "execute_result"
    },
    {
     "data": {
      "image/png": "[encoded data removed]",
      "text/plain": [
       "<Figure size 432x288 with 1 Axes>"
      ]
     },
     "metadata": {
      "needs_background": "light"
     },
     "output_type": "display_data"
    }
   ],
   "source": [
    "losses[['accuracy','val_accuracy']].plot()"
   ]
  },
  {
   "cell_type": "markdown",
   "id": "97126166-cb37-4bac-bf43-127c578033b6",
   "metadata": {},
   "source": [
    "The loss also stopped droping after epoch 20 and there was more deviation between training loss and validation loss."
   ]
  },
  {
   "cell_type": "code",
   "execution_count": 61,
   "id": "e8a4f410-36cb-4394-a102-1c48a5c6a127",
   "metadata": {},
   "outputs": [
    {
     "data": {
      "text/plain": [
       "<AxesSubplot:>"
      ]
     },
     "execution_count": 61,
     "metadata": {},
     "output_type": "execute_result"
    },
    {
     "data": {
      "image/png": "[encoded data removed]",
      "text/plain": [
       "<Figure size 432x288 with 1 Axes>"
      ]
     },
     "metadata": {
      "needs_background": "light"
     },
     "output_type": "display_data"
    }
   ],
   "source": [
    "losses[['loss','val_loss']].plot()"
   ]
  },
  {
   "cell_type": "markdown",
   "id": "760bbbd3-874c-4795-af1e-7578462cbcd4",
   "metadata": {},
   "source": [
    "Now, the predict method will be used on the test set. Since the labels were one hot encoded with multiple columns, it will be converted using numpy argmax to perform prediction methods such as confusion matrix and classifiation report. "
   ]
  },
  {
   "cell_type": "code",
   "execution_count": 62,
   "id": "76e84889-3831-43cc-ac13-7a9c38a27495",
   "metadata": {},
   "outputs": [],
   "source": [
    "pred = model.predict(X_test)\n",
    "# one hot encoded multiclass labels so converting to argmax\n",
    "arg_pred = np.argmax(pred, axis=1)\n",
    "arg_true = np.argmax(y_test, axis=1)"
   ]
  },
  {
   "cell_type": "markdown",
   "id": "561c5171-415b-41a3-8f7d-298f9887d4f4",
   "metadata": {},
   "source": [
    "The model performs very good as there is very less false positives and false negatives."
   ]
  },
  {
   "cell_type": "code",
   "execution_count": 63,
   "id": "fcf83a31-bb10-4869-969e-3170c4aaa26a",
   "metadata": {},
   "outputs": [
    {
     "name": "stdout",
     "output_type": "stream",
     "text": [
      "[[183   0   3   0   6   0   0   0   0   1]\n",
      " [  0  76   0   1   0   0   0   0   0   1]\n",
      " [  1   0 206   0   1   0   0   0   2   1]\n",
      " [  1   0   5 188   0   1   0   1   1   1]\n",
      " [  0   0   2   0 203   0   0   1   0   1]\n",
      " [  0   0   0   0   1 181   0   1   1   1]\n",
      " [  0   0   0   0   1   0  77   0   0   1]\n",
      " [  0   0   0   0   3   0   0 188   0   0]\n",
      " [  0   0   0   2   0   0   0   0 197   0]\n",
      " [  3   0   2   0   3   1   1   1   0 195]]\n"
     ]
    }
   ],
   "source": [
    "print(confusion_matrix(arg_true, arg_pred))"
   ]
  },
  {
   "cell_type": "code",
   "execution_count": 65,
   "id": "9f838738-0630-4faf-acaf-90bcb42dc37e",
   "metadata": {},
   "outputs": [
    {
     "name": "stdout",
     "output_type": "stream",
     "text": [
      "              precision    recall  f1-score   support\n",
      "\n",
      "           0       0.97      0.95      0.96       193\n",
      "           1       1.00      0.97      0.99        78\n",
      "           2       0.94      0.98      0.96       211\n",
      "           3       0.98      0.95      0.97       198\n",
      "           4       0.93      0.98      0.96       207\n",
      "           5       0.99      0.98      0.98       185\n",
      "           6       0.99      0.97      0.98        79\n",
      "           7       0.98      0.98      0.98       191\n",
      "           8       0.98      0.99      0.98       199\n",
      "           9       0.97      0.95      0.96       206\n",
      "\n",
      "    accuracy                           0.97      1747\n",
      "   macro avg       0.97      0.97      0.97      1747\n",
      "weighted avg       0.97      0.97      0.97      1747\n",
      "\n"
     ]
    }
   ],
   "source": [
    "print(classification_report(arg_true, arg_pred))"
   ]
  },
  {
   "cell_type": "markdown",
   "id": "f7db1fc9-5f80-4a4e-bff0-75f1571c9707",
   "metadata": {},
   "source": [
    "The precision, recall, f1-score, accuracy scores are very good for the model. This shows the power of neural networks on complex data."
   ]
  },
  {
   "cell_type": "markdown",
   "id": "54dce683-7018-4c80-9e1a-196915c75e2b",
   "metadata": {},
   "source": [
    "## Random Forest"
   ]
  },
  {
   "cell_type": "markdown",
   "id": "7db1ba22-f005-406d-9d14-fd45dc23bafe",
   "metadata": {},
   "source": [
    "The evaluation for the Random forest model will be done. The numpy argmax conversions will be done for the predictions and true labels."
   ]
  },
  {
   "cell_type": "code",
   "execution_count": 68,
   "id": "d4bca420-3cf3-461b-85fd-5af6719b638e",
   "metadata": {},
   "outputs": [],
   "source": [
    "arg_pred_rf = np.argmax(rf_pred_2, axis=1)\n",
    "arg_true_rf = np.argmax(y_test, axis=1)"
   ]
  },
  {
   "cell_type": "markdown",
   "id": "00959f6d-63ea-433c-9603-e222ae8d5cda",
   "metadata": {},
   "source": [
    "The number of false negatives is high. The model performed poorly in predicting car horn and street music."
   ]
  },
  {
   "cell_type": "code",
   "execution_count": 71,
   "id": "82e7e129-c943-4d79-bc47-42b1568e181f",
   "metadata": {},
   "outputs": [
    {
     "data": {
      "text/plain": [
       "array([[192,   0,   0,   0,   0,   0,   0,   1,   0,   0],\n",
       "       [ 52,  23,   1,   0,   2,   0,   0,   0,   0,   0],\n",
       "       [ 90,   0, 109,   4,   3,   1,   1,   0,   1,   2],\n",
       "       [ 79,   0,   3, 115,   1,   0,   0,   0,   0,   0],\n",
       "       [ 48,   0,   1,   0, 149,   0,   0,   9,   0,   0],\n",
       "       [ 22,   0,   2,   0,   0, 161,   0,   0,   0,   0],\n",
       "       [ 20,   0,   1,   0,   1,   0,  57,   0,   0,   0],\n",
       "       [ 28,   0,   0,   0,   4,   0,   0, 158,   0,   1],\n",
       "       [ 51,   0,   0,   1,   0,   0,   0,   0, 146,   1],\n",
       "       [132,   0,   2,   0,   1,   1,   0,   0,   0,  70]])"
      ]
     },
     "execution_count": 71,
     "metadata": {},
     "output_type": "execute_result"
    }
   ],
   "source": [
    "confusion_matrix(arg_true_rf, arg_pred_rf)"
   ]
  },
  {
   "cell_type": "code",
   "execution_count": 73,
   "id": "85af0449-1b4a-4d3e-93e0-0bb660560e6b",
   "metadata": {},
   "outputs": [
    {
     "name": "stdout",
     "output_type": "stream",
     "text": [
      "              precision    recall  f1-score   support\n",
      "\n",
      "           0       0.27      0.99      0.42       193\n",
      "           1       1.00      0.29      0.46        78\n",
      "           2       0.92      0.52      0.66       211\n",
      "           3       0.96      0.58      0.72       198\n",
      "           4       0.93      0.72      0.81       207\n",
      "           5       0.99      0.87      0.93       185\n",
      "           6       0.98      0.72      0.83        79\n",
      "           7       0.94      0.83      0.88       191\n",
      "           8       0.99      0.73      0.84       199\n",
      "           9       0.95      0.34      0.50       206\n",
      "\n",
      "    accuracy                           0.68      1747\n",
      "   macro avg       0.89      0.66      0.71      1747\n",
      "weighted avg       0.88      0.68      0.71      1747\n",
      "\n"
     ]
    }
   ],
   "source": [
    "print(classification_report(arg_true_rf, arg_pred_rf))"
   ]
  },
  {
   "cell_type": "markdown",
   "id": "67fbf28d-fd70-42be-a4f6-03df8f3289cf",
   "metadata": {},
   "source": [
    "The precision for the class air conditioner is very low. The recall is low for most of the classes. The accuracy is 68% percent which is less compared to ANN. "
   ]
  },
  {
   "cell_type": "code",
   "execution_count": null,
   "id": "439f15a0-f5f2-470f-a807-2a4694f8b4c2",
   "metadata": {},
   "outputs": [],
   "source": []
  }
 ],
 "metadata": {
  "interpreter": {
   "hash": "12f398f55b82d715cae46ff9b30516ca117e39e1bad45ee40367b5b480da2323"
  },
  "kernelspec": {
   "display_name": "Python 3 (ipykernel)",
   "language": "python",
   "name": "python3"
  },
  "language_info": {
   "codemirror_mode": {
    "name": "ipython",
    "version": 3
   },
   "file_extension": ".py",
   "mimetype": "text/x-python",
   "name": "python",
   "nbconvert_exporter": "python",
   "pygments_lexer": "ipython3",
   "version": "3.7.11"
  }
 },
 "nbformat": 4,
 "nbformat_minor": 5
}
